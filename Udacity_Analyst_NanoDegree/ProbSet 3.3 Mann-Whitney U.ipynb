{
 "metadata": {
  "name": "",
  "signature": "sha256:04c3c477e8ff6ef3360ac65d3a5a3fea2270d04d82cf03c9e3c7772d38722051"
 },
 "nbformat": 3,
 "nbformat_minor": 0,
 "worksheets": [
  {
   "cells": [
    {
     "cell_type": "code",
     "collapsed": false,
     "input": [
      "## Practive for Prob 3.3\n",
      "\n",
      "import numpy as np\n",
      "import scipy\n",
      "import scipy.stats\n",
      "import pandas as pd\n",
      "\n",
      "#def mann_whitney_plus_means(turnstile_weather):\n",
      "'''\n",
      "    This function will consume the turnstile_weather dataframe containing\n",
      "    our final turnstile weather data. \n",
      "    \n",
      "    You will want to take the means and run the Mann Whitney U-test on the \n",
      "    ENTRIESn_hourly column in the turnstile_weather dataframe.\n",
      "    \n",
      "    This function should return:\n",
      "        1) the mean of entries with rain\n",
      "        2) the mean of entries without rain\n",
      "        3) the Mann-Whitney U-statistic and p-value comparing the number of entries\n",
      "           with rain and the number of entries without rain\n",
      "    \n",
      "    You should feel free to use scipy's Mann-Whitney implementation, and you \n",
      "    might also find it useful to use numpy's mean function.\n",
      "    \n",
      "    Here are the functions' documentation:\n",
      "    http://docs.scipy.org/doc/scipy/reference/generated/scipy.stats.mannwhitneyu.html\n",
      "    http://docs.scipy.org/doc/numpy/reference/generated/numpy.mean.html\n",
      "    \n",
      "    You can look at the final turnstile weather data at the link below:\n",
      "    https://www.dropbox.com/s/meyki2wl9xfa7yk/turnstile_data_master_with_weather.csv\n",
      "'''\n",
      "    \n",
      "    ### YOUR CODE HERE ###\n",
      "    \n",
      "#open .csv file store in df\n",
      "with open('turnstile_data_master_with_weather.csv', 'rb') as f:\n",
      "    df = pd.read_csv(f)\n",
      "    \n",
      "with_rain_mean= np.mean(df[df.rain==1][\"ENTRIESn_hourly\"])\n",
      "print (\"with_rain_mean= \" + str(with_rain_mean))\n",
      "\n",
      "without_rain_mean= np.mean(df[df.rain==0][\"ENTRIESn_hourly\"])   \n",
      "print (\"without_rain_mean= \" + str(without_rain_mean))\n",
      "\n",
      "U,p = scipy.stats.mannwhitneyu(df[df.rain==1][\"ENTRIESn_hourly\"], df[df.rain==0][\"ENTRIESn_hourly\"]) \n",
      "# from lesson>>  U,p = scipy.stats.mannwhitneyu(sample1, sample2)\n",
      "print \"(U, p) = \" \n",
      "U,p\n",
      "\n",
      "# return with_rain_mean, without_rain_mean, U, p # leave this line for the grader"
     ],
     "language": "python",
     "metadata": {},
     "outputs": [
      {
       "output_type": "stream",
       "stream": "stdout",
       "text": [
        "with_rain_mean= 1105.44637675\n",
        "without_rain_mean= 1090.27878015\n",
        "(U, p) = "
       ]
      },
      {
       "output_type": "stream",
       "stream": "stdout",
       "text": [
        "\n"
       ]
      },
      {
       "metadata": {},
       "output_type": "pyout",
       "prompt_number": 15,
       "text": [
        "(1924409167.0, 0.019309634413792565)"
       ]
      }
     ],
     "prompt_number": 15
    },
    {
     "cell_type": "code",
     "collapsed": false,
     "input": [],
     "language": "python",
     "metadata": {},
     "outputs": []
    }
   ],
   "metadata": {}
  }
 ]
}